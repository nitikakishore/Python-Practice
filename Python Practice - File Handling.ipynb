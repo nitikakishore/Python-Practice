{
 "cells": [
  {
   "cell_type": "code",
   "execution_count": 3,
   "metadata": {},
   "outputs": [
    {
     "name": "stdout",
     "output_type": "stream",
     "text": [
      "I am learnig the topic file handling in Python.\n",
      "\n",
      "For that I have created this file.\n",
      "\n"
     ]
    }
   ],
   "source": [
    "### READ a file\n",
    "\n",
    "file = open('test.txt', 'r')  ## r -- read mode\n",
    "for line in file:\n",
    "    print(line)"
   ]
  },
  {
   "cell_type": "code",
   "execution_count": 4,
   "metadata": {},
   "outputs": [
    {
     "name": "stdout",
     "output_type": "stream",
     "text": [
      "I am learnig the topic file handling in Python.\n",
      "For that I have created this file.\n",
      "\n"
     ]
    }
   ],
   "source": [
    "file = open('test.txt','r')\n",
    "print(file.read())  ## reads entire content of the file"
   ]
  },
  {
   "cell_type": "code",
   "execution_count": 5,
   "metadata": {},
   "outputs": [
    {
     "name": "stdout",
     "output_type": "stream",
     "text": [
      "I am learn\n"
     ]
    }
   ],
   "source": [
    "file = open('test.txt','r')\n",
    "print(file.read(10))  ## reads the number of characters specified in the read() method."
   ]
  },
  {
   "cell_type": "code",
   "execution_count": 6,
   "metadata": {},
   "outputs": [
    {
     "name": "stdout",
     "output_type": "stream",
     "text": [
      "I\n",
      " \n",
      "a\n",
      "m\n",
      " \n",
      "l\n",
      "e\n",
      "a\n",
      "r\n",
      "n\n",
      "i\n",
      "g\n",
      " \n",
      "t\n",
      "h\n",
      "e\n",
      " \n",
      "t\n",
      "o\n",
      "p\n",
      "i\n",
      "c\n",
      " \n",
      "f\n",
      "i\n",
      "l\n",
      "e\n",
      " \n",
      "h\n",
      "a\n",
      "n\n",
      "d\n",
      "l\n",
      "i\n",
      "n\n",
      "g\n",
      " \n",
      "i\n",
      "n\n",
      " \n",
      "P\n",
      "y\n",
      "t\n",
      "h\n",
      "o\n",
      "n\n",
      ".\n",
      "\n",
      "\n"
     ]
    }
   ],
   "source": [
    "file = open('test.txt','r')\n",
    "for i in file.readline():    ## reads character wise.\n",
    "    print(i)"
   ]
  },
  {
   "cell_type": "code",
   "execution_count": 19,
   "metadata": {},
   "outputs": [],
   "source": [
    "### WRITE to a file\n",
    "\n",
    "file = open('test1.txt','w')  # w -- write mode\n",
    "file.write(\"Hello! I am learninig write operation in Python file operations.\")\n",
    "file.write(\"Thank you !\")\n",
    "file.close()  # always close the file after writing."
   ]
  },
  {
   "cell_type": "code",
   "execution_count": 20,
   "metadata": {},
   "outputs": [
    {
     "name": "stdout",
     "output_type": "stream",
     "text": [
      "Hello! I am learninig write operation in Python file operations.Thank you !\n"
     ]
    }
   ],
   "source": [
    "file = open('test1.txt','r')\n",
    "print(file.read())"
   ]
  },
  {
   "cell_type": "code",
   "execution_count": 27,
   "metadata": {},
   "outputs": [],
   "source": [
    "with open('test1.txt','a') as file:     ## a-- append mode\n",
    "    file.write(\" I am appending text1.txt file now.\")\n",
    "    file.write(\" I just came in to add some more content to this file using the append mode\")\n",
    "    #file.close()  ---- not required to close the file in append mode.\n"
   ]
  },
  {
   "cell_type": "code",
   "execution_count": 28,
   "metadata": {},
   "outputs": [
    {
     "name": "stdout",
     "output_type": "stream",
     "text": [
      "Hello! I am learninig write operation in Python file operations.Thank you ! I am appending this file now. I just came in to add some more content to this file using the append mode I am appending text1.txt file now. I just came in to add some more content to this file using the append mode\n"
     ]
    }
   ],
   "source": [
    "file = open(\"test1.txt\",'r')\n",
    "print(file.read())"
   ]
  },
  {
   "cell_type": "code",
   "execution_count": 29,
   "metadata": {},
   "outputs": [],
   "source": [
    "with open(\"test.txt\",'w') as file:\n",
    "    file.write(\" I am writing to the file test.txt using the write mode of file operations\")\n",
    "    "
   ]
  },
  {
   "cell_type": "code",
   "execution_count": 30,
   "metadata": {},
   "outputs": [
    {
     "name": "stdout",
     "output_type": "stream",
     "text": [
      " I am writing to the file test.txt using the write mode of file operations\n"
     ]
    }
   ],
   "source": [
    "file = open(\"test.txt\",'r')\n",
    "print(file.readline())"
   ]
  },
  {
   "cell_type": "code",
   "execution_count": 36,
   "metadata": {},
   "outputs": [],
   "source": [
    "## copy contents of one file to another\n",
    "\n",
    "with open('test.txt', 'r') as firstfile, open('test1.txt','a') as secondfile:\n",
    "    # read contents from firstfile\n",
    "    for line in firstfile:\n",
    "        # append content to second file\n",
    "        secondfile.write(line)\n",
    "\n"
   ]
  },
  {
   "cell_type": "code",
   "execution_count": 38,
   "metadata": {},
   "outputs": [
    {
     "name": "stdout",
     "output_type": "stream",
     "text": [
      "Hello! I am learninig write operation in Python file operations.Thank you ! I am appending this file now. I just came in to add some more content to this file using the append mode I am appending text1.txt file now. I just came in to add some more content to this file using the append mode I am writing to the file test.txt using the write mode of file operations I am writing to the file test.txt using the write mode of file operations I am writing to the file test.txt using the write mode of file operations I am writing to the file test.txt using the write mode of file operations I am writing to the file test.txt using the write mode of file operations I am writing to the file test.txt using the write mode of file operations\n"
     ]
    }
   ],
   "source": [
    "file = open('test1.txt','r')\n",
    "print(file.readline())"
   ]
  },
  {
   "cell_type": "code",
   "execution_count": 40,
   "metadata": {},
   "outputs": [
    {
     "data": {
      "text/plain": [
       "'test2.txt'"
      ]
     },
     "execution_count": 40,
     "metadata": {},
     "output_type": "execute_result"
    }
   ],
   "source": [
    "## copy contents of one file to another\n",
    "# import module\n",
    "import shutil\n",
    "  \n",
    "# use copyfile()\n",
    "shutil.copyfile('test1.txt','test2.txt')"
   ]
  },
  {
   "cell_type": "code",
   "execution_count": null,
   "metadata": {},
   "outputs": [],
   "source": []
  }
 ],
 "metadata": {
  "kernelspec": {
   "display_name": "Python 3",
   "language": "python",
   "name": "python3"
  },
  "language_info": {
   "codemirror_mode": {
    "name": "ipython",
    "version": 3
   },
   "file_extension": ".py",
   "mimetype": "text/x-python",
   "name": "python",
   "nbconvert_exporter": "python",
   "pygments_lexer": "ipython3",
   "version": "3.7.3"
  }
 },
 "nbformat": 4,
 "nbformat_minor": 4
}
