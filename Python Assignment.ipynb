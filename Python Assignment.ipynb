{
 "cells": [
  {
   "cell_type": "markdown",
   "metadata": {},
   "source": [
    "### Description: Remove SPSS from input_list=['SAS', 'R', 'PYTHON', 'SPSS'] and add 'SPARK' in its place."
   ]
  },
  {
   "cell_type": "code",
   "execution_count": 4,
   "metadata": {},
   "outputs": [
    {
     "name": "stdout",
     "output_type": "stream",
     "text": [
      "After removing SPSS ,thr input list is now:  ['SAS', 'R', 'PYTHON']\n",
      "Now ater adding SPARK, the new list is  ['SAS', 'R', 'PYTHON', 'SPARK']\n"
     ]
    }
   ],
   "source": [
    "input_list = ['SAS','R','PYTHON','SPSS']\n",
    "input_list.pop() # pop() will remove the last element frm the list\n",
    "print(\"After removing SPSS ,thr input list is now: \",input_list)\n",
    "input_list.append('SPARK')  # now append the list\n",
    "print(\"Now ater adding SPARK, the new list is \", input_list)\n"
   ]
  },
  {
   "cell_type": "markdown",
   "metadata": {},
   "source": [
    "### Description: Convert a string input_str = 'I love Data Science & Python' to a list by splitting it on ‘&’. The sample output for this string will be:       ['I' ,'love','Data','Science','&','Python']"
   ]
  },
  {
   "cell_type": "code",
   "execution_count": 7,
   "metadata": {},
   "outputs": [
    {
     "name": "stdout",
     "output_type": "stream",
     "text": [
      "te input string is :  I love Data Science & Python\n",
      "the converted list is:  ['I', 'love', 'Data', 'Science', '&', 'Python']\n"
     ]
    }
   ],
   "source": [
    "input_str = 'I love Data Science & Python'\n",
    "print(\"the input string is : \", input_str)\n",
    "str_list = []   # create an empty list\n",
    "# splitting the string \n",
    "for word in input_str.split(\" \"):\n",
    "    str_list.append(word)   # appending every split word int the list\n",
    "print(\"the converted list is: \",str_list)\n"
   ]
  },
  {
   "cell_type": "markdown",
   "metadata": {},
   "source": [
    "### Description: Convert a list ['Pythons syntax is easy to learn', 'Pythons syntax is very clear'] to a string using ‘&’. The sample output of this string will be:"
   ]
  },
  {
   "cell_type": "code",
   "execution_count": 8,
   "metadata": {},
   "outputs": [
    {
     "name": "stdout",
     "output_type": "stream",
     "text": [
      "The new string:  Pythons syntax is easy to learn & Pythons syntax is very clear\n"
     ]
    }
   ],
   "source": [
    "ls = ['Pythons syntax is easy to learn', 'Pythons syntax is very clear']\n",
    "merged_str = ls[0] + ' & '+ls[1]\n",
    "print(\"The new string: \",merged_str)"
   ]
  },
  {
   "cell_type": "markdown",
   "metadata": {},
   "source": [
    "### Description: Extract 'Python' from a nested list   .input_list = [['SAS','R'],['Tableau','SQL'],['Python','Java']]"
   ]
  },
  {
   "cell_type": "code",
   "execution_count": 10,
   "metadata": {},
   "outputs": [
    {
     "name": "stdout",
     "output_type": "stream",
     "text": [
      "Python\n"
     ]
    }
   ],
   "source": [
    "input_list = [['SAS','R'],['Tableau','SQL'],['Python','Java']]\n",
    "print(input_list[2][0])  # extracts the 0th index element from the 2nd index element of a nested list."
   ]
  },
  {
   "cell_type": "markdown",
   "metadata": {},
   "source": [
    "### Description: t = (\"disco\", 12, 4.5) .What is the output of: t[0][2]"
   ]
  },
  {
   "cell_type": "code",
   "execution_count": 11,
   "metadata": {},
   "outputs": [
    {
     "name": "stdout",
     "output_type": "stream",
     "text": [
      "s\n"
     ]
    }
   ],
   "source": [
    "t = (\"disco\", 12, 4.5)\n",
    "print(t[0][2])"
   ]
  },
  {
   "cell_type": "markdown",
   "metadata": {},
   "source": [
    "### Description: Write a program to check whether a string is a palindrome or not. Print 1 if the string is a palindrome and 0 otherwise."
   ]
  },
  {
   "cell_type": "code",
   "execution_count": 5,
   "metadata": {},
   "outputs": [
    {
     "name": "stdout",
     "output_type": "stream",
     "text": [
      "Enter a string to check for pallindrome: Nitika\n",
      "akitiN\n",
      "2\n"
     ]
    }
   ],
   "source": [
    "st = input(\"Enter a string to check for pallindrome: \")\n",
    "    if st == st[::-1]:  # check if the string is equal to the reverse of he string\n",
    "    print(1)\n",
    "else:\n",
    "    print(2)"
   ]
  },
  {
   "cell_type": "markdown",
   "metadata": {},
   "source": [
    "### Description: You will be given a sentence in the form of a string. You have to reverse the order of the words in the sentence. Remember not to reverse the individual words, but the order of words."
   ]
  },
  {
   "cell_type": "code",
   "execution_count": 13,
   "metadata": {},
   "outputs": [
    {
     "name": "stdout",
     "output_type": "stream",
     "text": [
      "The input is:  The quick brown fox jumps over a lazy dog\n",
      "The reversed order of words:  ['dog', 'lazy', 'a', 'over', 'jumps', 'fox', 'brown', 'quick', 'The']\n"
     ]
    }
   ],
   "source": [
    "sentence = \"The quick brown fox jumps over a lazy dog\"\n",
    "print(\"The input is: \", sentence)\n",
    "words = []\n",
    "words = sentence.split(\" \")\n",
    "#print(words)\n",
    "print(\"The reversed order of words: \",str(words[::-1]))\n"
   ]
  },
  {
   "cell_type": "markdown",
   "metadata": {},
   "source": [
    "### String Formatting\n",
    "#### Description: Write a program that satisfies below examples\n",
    "##### Input 1: caloRie ConsuMed\n",
    "##### Output 1: calorie_consumed"
   ]
  },
  {
   "cell_type": "code",
   "execution_count": 15,
   "metadata": {},
   "outputs": [
    {
     "name": "stdout",
     "output_type": "stream",
     "text": [
      "Input:  caloRie ConsuMed\n",
      "Output:  calorie_consumed\n"
     ]
    }
   ],
   "source": [
    "input_s = \"caloRie ConsuMed\"\n",
    "print(\"Input: \", input_s)\n",
    "print(\"Output: \", input_s.lower().replace(\" \",\"_\")) # convert to lower case and replace the \" \" with a \"_\"\n"
   ]
  },
  {
   "cell_type": "markdown",
   "metadata": {},
   "source": [
    "##### Input 2: data science\n",
    "##### Output 2: data_science"
   ]
  },
  {
   "cell_type": "code",
   "execution_count": 16,
   "metadata": {},
   "outputs": [
    {
     "name": "stdout",
     "output_type": "stream",
     "text": [
      "input :  data science\n",
      "Output:  data_science\n"
     ]
    }
   ],
   "source": [
    "input2 = \"data science\"\n",
    "print(\"input : \",input2)\n",
    "print(\"Output: \",input2.replace(\" \",\"_\"))"
   ]
  },
  {
   "cell_type": "code",
   "execution_count": 20,
   "metadata": {},
   "outputs": [
    {
     "name": "stdout",
     "output_type": "stream",
     "text": [
      "love\n",
      "love\n"
     ]
    }
   ],
   "source": [
    "# Extract the word love\n",
    "s = 'I love Python'\n",
    "print(s[2:6])\n",
    "print(s[-11:-7])\n"
   ]
  },
  {
   "cell_type": "code",
   "execution_count": 24,
   "metadata": {},
   "outputs": [
    {
     "data": {
      "text/plain": [
       "81"
      ]
     },
     "execution_count": 24,
     "metadata": {},
     "output_type": "execute_result"
    }
   ],
   "source": [
    "# output of 3 * 3 ** 3 be?\n",
    "\n",
    "3 * 3 ** 3    ## right to left"
   ]
  },
  {
   "cell_type": "code",
   "execution_count": 25,
   "metadata": {},
   "outputs": [
    {
     "data": {
      "text/plain": [
       "1"
      ]
     },
     "execution_count": 25,
     "metadata": {},
     "output_type": "execute_result"
    }
   ],
   "source": [
    "# output of ((500//7) % 5) ** 3 ?\n",
    "((500//7) % 5) ** 3"
   ]
  },
  {
   "cell_type": "code",
   "execution_count": 28,
   "metadata": {},
   "outputs": [
    {
     "ename": "AttributeError",
     "evalue": "'tuple' object has no attribute 'append'",
     "output_type": "error",
     "traceback": [
      "\u001b[0;31m---------------------------------------------------------------------------\u001b[0m",
      "\u001b[0;31mAttributeError\u001b[0m                            Traceback (most recent call last)",
      "\u001b[0;32m<ipython-input-28-ae365e643b2a>\u001b[0m in \u001b[0;36m<module>\u001b[0;34m\u001b[0m\n\u001b[1;32m      1\u001b[0m \u001b[0mT\u001b[0m \u001b[0;34m=\u001b[0m \u001b[0;34m(\u001b[0m\u001b[0;36m3\u001b[0m\u001b[0;34m,\u001b[0m \u001b[0;36m5\u001b[0m\u001b[0;34m,\u001b[0m \u001b[0;36m7\u001b[0m\u001b[0;34m,\u001b[0m \u001b[0;36m11\u001b[0m\u001b[0;34m)\u001b[0m\u001b[0;34m\u001b[0m\u001b[0;34m\u001b[0m\u001b[0m\n\u001b[0;32m----> 2\u001b[0;31m \u001b[0mT\u001b[0m\u001b[0;34m.\u001b[0m\u001b[0mappend\u001b[0m\u001b[0;34m(\u001b[0m\u001b[0;36m9\u001b[0m\u001b[0;34m)\u001b[0m  \u001b[0;31m# tuple has no attribute append and extend\u001b[0m\u001b[0;34m\u001b[0m\u001b[0;34m\u001b[0m\u001b[0m\n\u001b[0m",
      "\u001b[0;31mAttributeError\u001b[0m: 'tuple' object has no attribute 'append'"
     ]
    }
   ],
   "source": [
    "# What will be the output of this code?\n",
    "T = (3, 5, 7, 11)\n",
    "T.append(9)  # tuple has no attribute append and extend"
   ]
  },
  {
   "cell_type": "code",
   "execution_count": 30,
   "metadata": {},
   "outputs": [
    {
     "name": "stdout",
     "output_type": "stream",
     "text": [
      "6\n"
     ]
    }
   ],
   "source": [
    "# What will be the output of this code?\n",
    "l = [32,34,12,27,33]\n",
    "l.append((14,19))\n",
    "\n",
    "print(len(l))"
   ]
  },
  {
   "cell_type": "code",
   "execution_count": 32,
   "metadata": {},
   "outputs": [
    {
     "ename": "AttributeError",
     "evalue": "'set' object has no attribute 'append'",
     "output_type": "error",
     "traceback": [
      "\u001b[0;31m---------------------------------------------------------------------------\u001b[0m",
      "\u001b[0;31mAttributeError\u001b[0m                            Traceback (most recent call last)",
      "\u001b[0;32m<ipython-input-32-b747dd0b21b2>\u001b[0m in \u001b[0;36m<module>\u001b[0;34m\u001b[0m\n\u001b[1;32m      1\u001b[0m \u001b[0ms\u001b[0m \u001b[0;34m=\u001b[0m \u001b[0;34m{\u001b[0m\u001b[0;36m1\u001b[0m\u001b[0;34m,\u001b[0m\u001b[0;36m2\u001b[0m\u001b[0;34m,\u001b[0m\u001b[0;36m3\u001b[0m\u001b[0;34m,\u001b[0m\u001b[0;36m5\u001b[0m\u001b[0;34m}\u001b[0m\u001b[0;34m\u001b[0m\u001b[0;34m\u001b[0m\u001b[0m\n\u001b[0;32m----> 2\u001b[0;31m \u001b[0ms\u001b[0m\u001b[0;34m.\u001b[0m\u001b[0mappend\u001b[0m\u001b[0;34m(\u001b[0m\u001b[0;36m7\u001b[0m\u001b[0;34m)\u001b[0m\u001b[0;34m\u001b[0m\u001b[0;34m\u001b[0m\u001b[0m\n\u001b[0m",
      "\u001b[0;31mAttributeError\u001b[0m: 'set' object has no attribute 'append'"
     ]
    }
   ],
   "source": [
    "# What will be the output of this code?\n",
    "s = {1,2,3,5}\n",
    "s.append(7)"
   ]
  },
  {
   "cell_type": "code",
   "execution_count": 33,
   "metadata": {},
   "outputs": [
    {
     "name": "stdout",
     "output_type": "stream",
     "text": [
      "1\n",
      "2\n",
      "3\n"
     ]
    }
   ],
   "source": [
    "# What will be the output of this code?\n",
    "d ={1:['Raj',22], 2:['Simaran',34],3:['sonorita',32]}\n",
    "for val in d:\n",
    "    print(val)"
   ]
  },
  {
   "cell_type": "code",
   "execution_count": 34,
   "metadata": {},
   "outputs": [
    {
     "name": "stdout",
     "output_type": "stream",
     "text": [
      "[10, 9, 8, 7, 6, 5, 4, 3, 2]\n"
     ]
    }
   ],
   "source": [
    "# What will be the output of this code?\n",
    "print(list(range(10,1,-1)))"
   ]
  },
  {
   "cell_type": "code",
   "execution_count": null,
   "metadata": {},
   "outputs": [],
   "source": []
  }
 ],
 "metadata": {
  "kernelspec": {
   "display_name": "Python 3",
   "language": "python",
   "name": "python3"
  },
  "language_info": {
   "codemirror_mode": {
    "name": "ipython",
    "version": 3
   },
   "file_extension": ".py",
   "mimetype": "text/x-python",
   "name": "python",
   "nbconvert_exporter": "python",
   "pygments_lexer": "ipython3",
   "version": "3.7.3"
  }
 },
 "nbformat": 4,
 "nbformat_minor": 2
}
