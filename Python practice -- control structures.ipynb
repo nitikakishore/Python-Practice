{
 "cells": [
  {
   "cell_type": "code",
   "execution_count": 1,
   "metadata": {},
   "outputs": [
    {
     "data": {
      "text/plain": [
       "2"
      ]
     },
     "execution_count": 1,
     "metadata": {},
     "output_type": "execute_result"
    }
   ],
   "source": [
    "1+1"
   ]
  },
  {
   "cell_type": "code",
   "execution_count": 2,
   "metadata": {},
   "outputs": [
    {
     "data": {
      "text/plain": [
       "81"
      ]
     },
     "execution_count": 2,
     "metadata": {},
     "output_type": "execute_result"
    }
   ],
   "source": [
    "9**2 # power"
   ]
  },
  {
   "cell_type": "code",
   "execution_count": 3,
   "metadata": {},
   "outputs": [
    {
     "data": {
      "text/plain": [
       "4.5"
      ]
     },
     "execution_count": 3,
     "metadata": {},
     "output_type": "execute_result"
    }
   ],
   "source": [
    "9/2"
   ]
  },
  {
   "cell_type": "code",
   "execution_count": 4,
   "metadata": {},
   "outputs": [
    {
     "data": {
      "text/plain": [
       "4"
      ]
     },
     "execution_count": 4,
     "metadata": {},
     "output_type": "execute_result"
    }
   ],
   "source": [
    "9//2 ## floor division"
   ]
  },
  {
   "cell_type": "markdown",
   "metadata": {},
   "source": [
    "## List"
   ]
  },
  {
   "cell_type": "code",
   "execution_count": 5,
   "metadata": {},
   "outputs": [
    {
     "data": {
      "text/plain": [
       "list"
      ]
     },
     "execution_count": 5,
     "metadata": {},
     "output_type": "execute_result"
    }
   ],
   "source": [
    "a = []\n",
    "type(a)"
   ]
  },
  {
   "cell_type": "code",
   "execution_count": 1,
   "metadata": {},
   "outputs": [],
   "source": [
    "a = [\"hello\",1,2,3,5]\n"
   ]
  },
  {
   "cell_type": "code",
   "execution_count": 2,
   "metadata": {},
   "outputs": [],
   "source": [
    "a.append([9,0])"
   ]
  },
  {
   "cell_type": "code",
   "execution_count": 3,
   "metadata": {},
   "outputs": [
    {
     "data": {
      "text/plain": [
       "['hello', 1, 2, 3, 5, [9, 0]]"
      ]
     },
     "execution_count": 3,
     "metadata": {},
     "output_type": "execute_result"
    }
   ],
   "source": [
    "a"
   ]
  },
  {
   "cell_type": "code",
   "execution_count": 4,
   "metadata": {},
   "outputs": [],
   "source": [
    "a.extend([11,12])"
   ]
  },
  {
   "cell_type": "code",
   "execution_count": 5,
   "metadata": {},
   "outputs": [
    {
     "data": {
      "text/plain": [
       "['hello', 1, 2, 3, 5, [9, 0], 11, 12]"
      ]
     },
     "execution_count": 5,
     "metadata": {},
     "output_type": "execute_result"
    }
   ],
   "source": [
    "a\n"
   ]
  },
  {
   "cell_type": "code",
   "execution_count": 6,
   "metadata": {},
   "outputs": [
    {
     "data": {
      "text/plain": [
       "0"
      ]
     },
     "execution_count": 6,
     "metadata": {},
     "output_type": "execute_result"
    }
   ],
   "source": [
    "a[5][1]"
   ]
  },
  {
   "cell_type": "code",
   "execution_count": 7,
   "metadata": {},
   "outputs": [
    {
     "data": {
      "text/plain": [
       "[9, 0]"
      ]
     },
     "execution_count": 7,
     "metadata": {},
     "output_type": "execute_result"
    }
   ],
   "source": [
    "a.pop(5)"
   ]
  },
  {
   "cell_type": "code",
   "execution_count": 8,
   "metadata": {},
   "outputs": [
    {
     "data": {
      "text/plain": [
       "['hello', 1, 2, 3, 5, 11, 12]"
      ]
     },
     "execution_count": 8,
     "metadata": {},
     "output_type": "execute_result"
    }
   ],
   "source": [
    "a"
   ]
  },
  {
   "cell_type": "code",
   "execution_count": 9,
   "metadata": {},
   "outputs": [],
   "source": [
    "a.append([9,0])"
   ]
  },
  {
   "cell_type": "code",
   "execution_count": 10,
   "metadata": {},
   "outputs": [
    {
     "data": {
      "text/plain": [
       "11"
      ]
     },
     "execution_count": 10,
     "metadata": {},
     "output_type": "execute_result"
    }
   ],
   "source": [
    "a.pop([5][0])"
   ]
  },
  {
   "cell_type": "code",
   "execution_count": 11,
   "metadata": {},
   "outputs": [
    {
     "data": {
      "text/plain": [
       "['hello', 1, 2, 3, 5, 12, [9, 0]]"
      ]
     },
     "execution_count": 11,
     "metadata": {},
     "output_type": "execute_result"
    }
   ],
   "source": [
    "a\n"
   ]
  },
  {
   "cell_type": "code",
   "execution_count": 12,
   "metadata": {},
   "outputs": [
    {
     "data": {
      "text/plain": [
       "['hello dear', 1, 2, 3, 5, 12, [9, 0]]"
      ]
     },
     "execution_count": 12,
     "metadata": {},
     "output_type": "execute_result"
    }
   ],
   "source": [
    "a[0] = \"hello dear\" ## changing list element on access --- Lists are MUTABLE\n",
    "a"
   ]
  },
  {
   "cell_type": "code",
   "execution_count": 13,
   "metadata": {},
   "outputs": [
    {
     "data": {
      "text/plain": [
       "['hello dear', 1, 2, 3, 5, 12, [9, 0]]"
      ]
     },
     "execution_count": 13,
     "metadata": {},
     "output_type": "execute_result"
    }
   ],
   "source": [
    "a"
   ]
  },
  {
   "cell_type": "code",
   "execution_count": 14,
   "metadata": {},
   "outputs": [],
   "source": [
    "a.append([9,0])\n"
   ]
  },
  {
   "cell_type": "code",
   "execution_count": 15,
   "metadata": {},
   "outputs": [
    {
     "data": {
      "text/plain": [
       "['hello dear', 1, 2, 3, 5, 12, [9, 0], [9, 0]]"
      ]
     },
     "execution_count": 15,
     "metadata": {},
     "output_type": "execute_result"
    }
   ],
   "source": [
    "a"
   ]
  },
  {
   "cell_type": "code",
   "execution_count": 16,
   "metadata": {},
   "outputs": [
    {
     "data": {
      "text/plain": [
       "9"
      ]
     },
     "execution_count": 16,
     "metadata": {},
     "output_type": "execute_result"
    }
   ],
   "source": [
    "a[6].pop(0) ## pops only the element at index-0 from a nested list at index-6"
   ]
  },
  {
   "cell_type": "code",
   "execution_count": 17,
   "metadata": {},
   "outputs": [
    {
     "data": {
      "text/plain": [
       "['hello dear', 1, 2, 3, 5, 12, [0], [9, 0]]"
      ]
     },
     "execution_count": 17,
     "metadata": {},
     "output_type": "execute_result"
    }
   ],
   "source": [
    "a"
   ]
  },
  {
   "cell_type": "code",
   "execution_count": 18,
   "metadata": {},
   "outputs": [],
   "source": [
    "a[6].extend([9]) #3 add element to the nested list at index -6"
   ]
  },
  {
   "cell_type": "code",
   "execution_count": 22,
   "metadata": {},
   "outputs": [
    {
     "data": {
      "text/plain": [
       "['hello dear', 1, 2]"
      ]
     },
     "execution_count": 22,
     "metadata": {},
     "output_type": "execute_result"
    }
   ],
   "source": [
    "a[:3]"
   ]
  },
  {
   "cell_type": "markdown",
   "metadata": {},
   "source": [
    "##  Tuple"
   ]
  },
  {
   "cell_type": "code",
   "execution_count": 20,
   "metadata": {},
   "outputs": [
    {
     "data": {
      "text/plain": [
       "(1, 2, 33, 4)"
      ]
     },
     "execution_count": 20,
     "metadata": {},
     "output_type": "execute_result"
    }
   ],
   "source": [
    "b = (1,2,33,4,)\n",
    "b"
   ]
  },
  {
   "cell_type": "code",
   "execution_count": 39,
   "metadata": {},
   "outputs": [
    {
     "data": {
      "text/plain": [
       "(1, 1, 2, 3, 4)"
      ]
     },
     "execution_count": 39,
     "metadata": {},
     "output_type": "execute_result"
    }
   ],
   "source": [
    "b = (1,1,2,3,4)        ## we can change the entire tuple elements by reassigning the variable.\n",
    "b"
   ]
  },
  {
   "cell_type": "code",
   "execution_count": 36,
   "metadata": {},
   "outputs": [
    {
     "ename": "TypeError",
     "evalue": "'tuple' object does not support item assignment",
     "output_type": "error",
     "traceback": [
      "\u001b[0;31m---------------------------------------------------------------------------\u001b[0m",
      "\u001b[0;31mTypeError\u001b[0m                                 Traceback (most recent call last)",
      "\u001b[0;32m<ipython-input-36-46d36b6c4b6f>\u001b[0m in \u001b[0;36m<module>\u001b[0;34m\u001b[0m\n\u001b[0;32m----> 1\u001b[0;31m \u001b[0mb\u001b[0m\u001b[0;34m[\u001b[0m\u001b[0;36m1\u001b[0m\u001b[0;34m]\u001b[0m \u001b[0;34m=\u001b[0m \u001b[0;36m8\u001b[0m\u001b[0;34m\u001b[0m\u001b[0;34m\u001b[0m\u001b[0m\n\u001b[0m\u001b[1;32m      2\u001b[0m \u001b[0mb\u001b[0m\u001b[0;34m\u001b[0m\u001b[0;34m\u001b[0m\u001b[0m\n",
      "\u001b[0;31mTypeError\u001b[0m: 'tuple' object does not support item assignment"
     ]
    }
   ],
   "source": [
    "b[1] = 8           ## ERROR !       \n",
    "b                  ## tuple' object does not support item assignment hence tuples don't have append() and extend() "
   ]
  },
  {
   "cell_type": "code",
   "execution_count": 40,
   "metadata": {},
   "outputs": [
    {
     "data": {
      "text/plain": [
       "2"
      ]
     },
     "execution_count": 40,
     "metadata": {},
     "output_type": "execute_result"
    }
   ],
   "source": [
    "b.count(1)  ## counts the number of element provided\n"
   ]
  },
  {
   "cell_type": "code",
   "execution_count": null,
   "metadata": {},
   "outputs": [],
   "source": [
    "b[3]"
   ]
  },
  {
   "cell_type": "code",
   "execution_count": 23,
   "metadata": {},
   "outputs": [
    {
     "data": {
      "text/plain": [
       "range(0, 6)"
      ]
     },
     "execution_count": 23,
     "metadata": {},
     "output_type": "execute_result"
    }
   ],
   "source": [
    "x = range(6)\n",
    "x"
   ]
  },
  {
   "cell_type": "markdown",
   "metadata": {},
   "source": [
    "## Write a program to demonstrate different number data types in Python."
   ]
  },
  {
   "cell_type": "code",
   "execution_count": 27,
   "metadata": {},
   "outputs": [
    {
     "name": "stdout",
     "output_type": "stream",
     "text": [
      "a is Type  <class 'int'>\n",
      "b is Type  <class 'float'>\n",
      "c is Type  <class 'complex'>\n"
     ]
    }
   ],
   "source": [
    "a = 10     # int\n",
    "b = 11.5   # float\n",
    "c = 2.05j  # complex \n",
    "print(\"a is Type \" ,type(a))\n",
    "print(\"b is Type \", type(b))\n",
    "print(\"c is Type \", type(c))\n"
   ]
  },
  {
   "cell_type": "markdown",
   "metadata": {},
   "source": [
    "## Write a program to perform different Arithmetic Operations on numbers in Python. \n"
   ]
  },
  {
   "cell_type": "code",
   "execution_count": 28,
   "metadata": {},
   "outputs": [
    {
     "name": "stdout",
     "output_type": "stream",
     "text": [
      "Enter a value10\n",
      "enter a value5\n",
      "Addition of a and b =  15\n",
      "Subtraction of a and b =  5\n",
      "Multiplication of a and b =  50\n",
      "dvision of a and b =  2.0\n",
      "remainder when  a divided by b =  0\n",
      "exponenet of a and b =  100000\n",
      "floor division of a and b =  2\n"
     ]
    }
   ],
   "source": [
    "a = int(input(\"Enter a value\"))   # input() takes runtime input from user.\n",
    "b = int(input(\"enter a value\")) #  int typecasts the input value to int.\n",
    "print(\"Addition of a and b = \", a+b) # addition operation.\n",
    "print(\"Subtraction of a and b = \", a-b)\n",
    "print(\"Multiplication of a and b = \", a*b)\n",
    "print(\"dvision of a and b = \", a/b)\n",
    "print(\"remainder when  a divided by b = \", a%b)\n",
    "print(\"exponenet of a and b = \", a**b) # power operator\n",
    "print(\"floor division of a and b = \", a//b)"
   ]
  },
  {
   "cell_type": "markdown",
   "metadata": {},
   "source": [
    "## 3. Write a program to create, concatenate and print a string and accessing sub-string from a given string."
   ]
  },
  {
   "cell_type": "code",
   "execution_count": 29,
   "metadata": {},
   "outputs": [
    {
     "name": "stdout",
     "output_type": "stream",
     "text": [
      "Enter a stringHello\n",
      "Enter a StringEveryone\n",
      "First String Hello\n",
      "Second String Everyone\n",
      "Concatenation of two strings HelloEveryone\n",
      "Substring of a given string ell\n"
     ]
    }
   ],
   "source": [
    "str1 = input(\"Enter a string  \")\n",
    "str2 = input(\"Enter a String  \")\n",
    "print(\"First String\", str1)\n",
    "print(\"Second String\", str2)\n",
    "print(\"Concatenation of two strings\", str1 + str2)\n",
    "print(\"Substring of a given string\", str1[1:4])\n"
   ]
  },
  {
   "cell_type": "markdown",
   "metadata": {},
   "source": [
    "## Write a python script to print the current date in the following format “Sun May 29 02:26:23 IST 2017”"
   ]
  },
  {
   "cell_type": "code",
   "execution_count": 33,
   "metadata": {},
   "outputs": [
    {
     "name": "stdout",
     "output_type": "stream",
     "text": [
      "Wed Aug 04 13:31:01 IST 2021 \n"
     ]
    },
    {
     "data": {
      "text/plain": [
       "'\\n%a - abbreviated day name\\n%b - abbreviated month name\\n%d - day of the month as decimal(0,31)\\n%H - hour in 24 hr system(0,24)\\n%M - minute(0,59)\\n%S - second(0,59)\\n%Z - Time Zone\\n%Y - Year '"
      ]
     },
     "execution_count": 33,
     "metadata": {},
     "output_type": "execute_result"
    }
   ],
   "source": [
    "import time\n",
    "local_time = time.localtime()\n",
    "print(time.strftime(\"%a %b %d %H:%M:%S %Z %Y \", local_time))\n",
    "\n",
    "'''\n",
    "%a - abbreviated day name\n",
    "%b - abbreviated month name\n",
    "%d - day of the month as decimal(0,31)\n",
    "%H - hour in 24 hr system(0,24)\n",
    "%M - minute(0,59)\n",
    "%S - second(0,59)\n",
    "%Z - Time Zone\n",
    "%Y - Year '''"
   ]
  },
  {
   "cell_type": "markdown",
   "metadata": {},
   "source": [
    "## Write a program to create, append, and remove lists in python. "
   ]
  },
  {
   "cell_type": "code",
   "execution_count": 48,
   "metadata": {},
   "outputs": [
    {
     "name": "stdout",
     "output_type": "stream",
     "text": [
      "[1, 3, 5, 7, 9, 11]\n",
      "[2, 4, 6, 1, 3, 5, 7, 9, 11]\n",
      "[1, 5, 7, 9, 11]\n",
      "[1, 5, 7, 11]\n"
     ]
    }
   ],
   "source": [
    "my_list = [] # empty list\n",
    "my_list_num = [1,2,3,45,5] # list of integers\n",
    "my_list_mixed = [\"Hello\", 2.5, 1,2,4] # list of mixed data types\n",
    "my_list_nested = [\"Hello\", 1, 2.5, [4,7,8],['a']] # nested list \n",
    "odd = [1,3,5]\n",
    "odd.append(7) # appending at the end of the list\n",
    "odd.extend([9,11]) # extending elements of list odd\n",
    "print(odd)\n",
    "even =[2,4,6]\n",
    "num = even + odd   # conacatenating list using + operator\n",
    "print(num)\n",
    "odd.remove(3) # removes the item with given value \n",
    "print(odd)\n",
    "odd.pop(3) # removes the item at given index\n",
    "print(odd)\n"
   ]
  },
  {
   "cell_type": "markdown",
   "metadata": {},
   "source": [
    "##  Write a program to demonstrate working with tuples in python"
   ]
  },
  {
   "cell_type": "code",
   "execution_count": 52,
   "metadata": {},
   "outputs": [
    {
     "name": "stdout",
     "output_type": "stream",
     "text": [
      "()\n",
      "(1, 2, 3, 45, 6, 6)\n",
      "('hello', 2, 4.8, 'a')\n",
      "('hello', 91, 34, (3, 2.7), ['a', 'b'])\n",
      "(1, 3, 4.5, 'cat')\n",
      "1\n",
      "3\n",
      "4.5\n",
      "cat\n",
      "type of tup  <class 'int'>\n",
      "type of tup1  <class 'tuple'>\n"
     ]
    }
   ],
   "source": [
    "my_tuple = ()  # empty tuple\n",
    "print(my_tuple) \n",
    "my_tuple_int =(1,2,3,45,6,6) # tuple with only integers\n",
    "print(my_tuple_int)\n",
    "my_tuple_mix = (\"hello\", 2,4.8, 'a') # tuple having elements of mixed datatypes\n",
    "print(my_tuple_mix) \n",
    "my_tuple_nested = (\"hello\", 91,34,(3,2.7), ['a','b']) # nested tuple\n",
    "print(my_tuple_nested)\n",
    "\n",
    "# tuple can be created without bracket also.\n",
    "\n",
    "my_tup = 1,3,4.5,\"cat\"  # tuple without bracket-- tuple packing\n",
    "print(my_tup)\n",
    "a,b,c,d = my_tup # tuple unpacking\n",
    "print(a)\n",
    "print(b)\n",
    "print(c)\n",
    "print(d)\n",
    "\n",
    "tup = (1) # not a tuple--- \n",
    "print(\"type of tup \" ,type(tup))\n",
    "tup1 = (1,) # is a tuple\n",
    "print(\"type of tup1 \",type(tup1))"
   ]
  },
  {
   "cell_type": "markdown",
   "metadata": {},
   "source": [
    "##  Write a program to demonstrate working with dictionaries in python. "
   ]
  },
  {
   "cell_type": "code",
   "execution_count": 55,
   "metadata": {},
   "outputs": [
    {
     "name": "stdout",
     "output_type": "stream",
     "text": [
      "John\n",
      "[265, 356, 465]\n"
     ]
    }
   ],
   "source": [
    "my_dict = {} # empty dictionary\n",
    "my_dict_int = {1:\"apple\",2:\"mango\",3:\"banana\"}  # dictionary with integer keys\n",
    "my_dict_mix = {\"name\": \"John\", 2: [265,356,465]}  # dictionary with mixed datatype keys\n",
    "my_dict = dict({1:\"apple\",2:\"mango\",3:\"banana\"}) # using dict\n",
    "print(my_dict_mix[\"name\"])\n",
    "print(my_dict_mix.get(2))"
   ]
  },
  {
   "cell_type": "markdown",
   "metadata": {},
   "source": [
    "##  Write a python program to find largest of three numbers."
   ]
  },
  {
   "cell_type": "code",
   "execution_count": 58,
   "metadata": {},
   "outputs": [
    {
     "name": "stdout",
     "output_type": "stream",
     "text": [
      "enter a value 32\n",
      "enter a value 65\n",
      "enter a value 21\n",
      "the largest number is  65\n"
     ]
    }
   ],
   "source": [
    "a = int(input(\"enter a value \"))\n",
    "b = int(input(\"enter a value \"))\n",
    "c = int(input(\"enter a value \"))\n",
    "if a > b and a > c:\n",
    "    largest = a\n",
    "if b > a and b > c:\n",
    "    largest = b\n",
    "else:\n",
    "    largest = c\n",
    "print(\"the largest number is \", largest)"
   ]
  },
  {
   "cell_type": "markdown",
   "metadata": {},
   "source": [
    "## Write a Python program to convert temperatures to and from Celsius, Fahrenheit. [ Formula: c = (f-32)(5/9)"
   ]
  },
  {
   "cell_type": "code",
   "execution_count": 60,
   "metadata": {},
   "outputs": [
    {
     "name": "stdout",
     "output_type": "stream",
     "text": [
      "enter the temperature value : 98.6\n",
      "enter the unit of temperature e.g 'C' for Celcius & 'F' for Farenheitf\n",
      "temperature in Celcius  37.0\n"
     ]
    }
   ],
   "source": [
    "temp = float(input(\"enter the temperature value : \"))\n",
    "unit = input(\"enter the unit of temperature e.g 'C' for Celcius & 'F' for Farenheit\")\n",
    "if unit == 'C' or unit == 'c':\n",
    "    temp_converted = 9/5 * temp + 32\n",
    "    print(\" temperature in Farenfeit = \", temp_converted)\n",
    "elif unit == 'F' or unit == 'f':\n",
    "    temp_converted = 5/9 * (temp - 32)\n",
    "    print(\"temperature in Celcius \", temp_converted)\n",
    "else: \n",
    "    print(\"unknown unit ! \")\n",
    "    \n"
   ]
  },
  {
   "cell_type": "markdown",
   "metadata": {},
   "source": [
    "## Write a Python program to construct the following pattern, using a nested for loop "
   ]
  },
  {
   "cell_type": "markdown",
   "metadata": {},
   "source": [
    "##  x\n",
    "##    xx\n",
    "##    xxx\n",
    "##    xxxx\n",
    "##    xxxxx\n",
    "##    xxxx\n",
    "##    xxx\n",
    "##    xx\n",
    "##   x"
   ]
  },
  {
   "cell_type": "code",
   "execution_count": 79,
   "metadata": {},
   "outputs": [
    {
     "name": "stdout",
     "output_type": "stream",
     "text": [
      " \n",
      "x \n",
      "xx \n",
      "xxx \n",
      "xxxx \n",
      "xxxxx \n",
      "xxxx \n",
      "xxx \n",
      "xx \n",
      "x \n"
     ]
    }
   ],
   "source": [
    "n = 5\n",
    "for x in range(n):\n",
    "    for y in range(x):\n",
    "        print(\"x\",end=\"\")\n",
    "    print(\" \")\n",
    "\n",
    "for x in range(n,0,-1):\n",
    "    for y in range(x):\n",
    "        print(\"x\",end=\"\")\n",
    "    print(\" \")\n"
   ]
  },
  {
   "cell_type": "markdown",
   "metadata": {},
   "source": [
    "## Write a Python script that prints prime numbers less than 20\n"
   ]
  },
  {
   "cell_type": "code",
   "execution_count": 21,
   "metadata": {},
   "outputs": [
    {
     "name": "stdout",
     "output_type": "stream",
     "text": [
      "Enter the start number: 2\n",
      "Enter the last number: 20\n",
      "2 is a prime number\n",
      "3 is a prime number\n",
      "4 is not a prime number\n",
      "2 times 2 is 4\n",
      "5 is a prime number\n",
      "6 is not a prime number\n",
      "2 times 3 is 6\n",
      "7 is a prime number\n",
      "8 is not a prime number\n",
      "2 times 4 is 8\n",
      "9 is not a prime number\n",
      "3 times 3 is 9\n",
      "10 is not a prime number\n",
      "2 times 5 is 10\n",
      "11 is a prime number\n",
      "12 is not a prime number\n",
      "2 times 6 is 12\n",
      "13 is a prime number\n",
      "14 is not a prime number\n",
      "2 times 7 is 14\n",
      "15 is not a prime number\n",
      "3 times 5 is 15\n",
      "16 is not a prime number\n",
      "2 times 8 is 16\n",
      "17 is a prime number\n",
      "18 is not a prime number\n",
      "2 times 9 is 18\n",
      "19 is a prime number\n"
     ]
    }
   ],
   "source": [
    "first = int(input(\"Enter the start number: \"))\n",
    "last = int(input(\"Enter the last number: \"))\n",
    "for x in range(first,last):\n",
    "    if x > 1:  \n",
    "        for i in range(2,x):  \n",
    "            if (x % i) == 0:  \n",
    "                print(x,\"is not a prime number\")  \n",
    "                print(i,\"times\",x//i,\"is\",x)  # x//i gives the floor division of eg. 3//2=1\n",
    "                break  \n",
    "    \n",
    "            \n",
    "             \n",
    "        else:  \n",
    "            print(x,\"is a prime number\")     \n",
    "\n",
    "        \n",
    "                "
   ]
  },
  {
   "cell_type": "markdown",
   "metadata": {},
   "source": [
    "## Write a python program to find factorial of a number using Recursion"
   ]
  },
  {
   "cell_type": "code",
   "execution_count": 28,
   "metadata": {},
   "outputs": [
    {
     "name": "stdout",
     "output_type": "stream",
     "text": [
      "enter a number3\n",
      "The factorial of 3  is 6\n"
     ]
    }
   ],
   "source": [
    "def factorial_recurr(n): # defining the recursive function\n",
    "    if n == 1:\n",
    "         return n\n",
    "    else:\n",
    "        return n*factorial_recurr(n-1)\n",
    "    \n",
    "num = int(input(\"enter a number\")) # take input from the user\n",
    "if num < 0:     # check for negative number\n",
    "    print(\"Please enter a positive number, negative numbers dont have factorials!\")\n",
    "elif num == 0:  # check if number is 0\n",
    "    print(\"The factorial of 0 is 1\")\n",
    "else:\n",
    "    print(\"The factorial of\",num,\" is\", factorial_recurr(num))  # calling the function\n"
   ]
  },
  {
   "cell_type": "markdown",
   "metadata": {},
   "source": [
    "## 13. Write a program that accepts the lengths of three sides of a triangle as inputs. The program output should indicate whether or not the triangle is a right triangle (Recall from the Pythagorean Theorem that in a right triangle, the square of one side equals the sum of the squares of the other two sides). "
   ]
  },
  {
   "cell_type": "code",
   "execution_count": 31,
   "metadata": {},
   "outputs": [
    {
     "name": "stdout",
     "output_type": "stream",
     "text": [
      "enter the side base of the triangle3\n",
      "enter the side hypotenuse of the triangle 5\n",
      "enter the side perpendicular of the triangle 4\n",
      "This will make a right angled triangle\n"
     ]
    }
   ],
   "source": [
    "base = int(input(\"enter the side base of the triangle\" ))\n",
    "hypo = int(input(\"enter the side hypotenuse of the triangle \"))\n",
    "perp = int(input(\"enter the side perpendicular of the triangle \"))\n",
    "if hypo**2 == ((base**2)+(perp**2)):\n",
    "    print(\"This will make a right angled triangle\")\n",
    "else: \n",
    "    print(\"this will not form a right angled triangle\")\n"
   ]
  },
  {
   "cell_type": "markdown",
   "metadata": {},
   "source": [
    "## Write a python program to define a module to find Fibonacci Numbers and import the module to another program."
   ]
  },
  {
   "cell_type": "code",
   "execution_count": 34,
   "metadata": {},
   "outputs": [],
   "source": [
    "def fib(n):  # write a fibonacci series up to n\n",
    "    a,b = 0,1\n",
    "    while b < n:\n",
    "        print(b , end=\"\")\n",
    "        a,b = b, a+b\n",
    "    print()\n",
    "    \n",
    "def fib2(n):  # write a fibonacci series upto n\n",
    "    result = []\n",
    "    a, b = 0,1\n",
    "    while b < n:\n",
    "        result.append(b)\n",
    "        a,b = b, a+b\n",
    "        return result\n",
    "    \n",
    "        "
   ]
  },
  {
   "cell_type": "code",
   "execution_count": 35,
   "metadata": {},
   "outputs": [
    {
     "name": "stdout",
     "output_type": "stream",
     "text": [
      "B\n"
     ]
    }
   ],
   "source": [
    "if True or True:\n",
    "    if False and True or False:\n",
    "        print('A')\n",
    "    elif False and False or True and True:\n",
    "        print('B')\n",
    "    else:\n",
    "        print('C')\n",
    "else:\n",
    "    print('D')\n"
   ]
  },
  {
   "cell_type": "markdown",
   "metadata": {},
   "source": [
    "## Write a code to check if the string in input_str starts with a vowel or not. Print capital YES or NO. For example, if input_str = 'analytics' then, your output should print 'YES'.\n"
   ]
  },
  {
   "cell_type": "code",
   "execution_count": 7,
   "metadata": {},
   "outputs": [
    {
     "name": "stdout",
     "output_type": "stream",
     "text": [
      "Enter a word : Alligator\n",
      "Alligator\n",
      "YES\n"
     ]
    }
   ],
   "source": [
    "input_str = input(\"Enter a word : \")\n",
    "print(input_str)\n",
    "\n",
    "if input_str[0].lower() in ['a','e','i','o','u']:\n",
    "    print(\"YES\")\n",
    "else:\n",
    "    print(\"NO\")\n",
    "    \n",
    "    "
   ]
  },
  {
   "cell_type": "markdown",
   "metadata": {},
   "source": [
    "## You are given a list of string elements and asked to return a list which contains each element of the string in title case or in other words first character of the string would be in upper case and remaining all characters in lower caseSample \n",
    "Input: ['VARMA', 'raj', 'Gupta', 'SaNdeeP'\n",
    "Output: ['Varma', 'Raj', 'Gupta', 'Sandeep']"
   ]
  },
  {
   "cell_type": "code",
   "execution_count": 10,
   "metadata": {},
   "outputs": [
    {
     "name": "stdout",
     "output_type": "stream",
     "text": [
      "['Varma', 'Raj', 'Gupta', 'Sandeep']\n"
     ]
    }
   ],
   "source": [
    "input_list = ['VARMA', 'raj', 'Gupta', 'SaNdeeP']\n",
    "output_list = []\n",
    "for x in input_list:\n",
    "    y = x.title()\n",
    "    output_list.append(y)\n",
    "print(output_list)"
   ]
  },
  {
   "cell_type": "code",
   "execution_count": 18,
   "metadata": {},
   "outputs": [
    {
     "name": "stdout",
     "output_type": "stream",
     "text": [
      "[-100, -98, -96, -94, -92, -90, -88, -86, -84, -82, -80, -78, -76, -74, -72, -70, -68, -66, -64, -62, -60, -58, -56, -54, -52, -50, -48, -46, -44, -42, -40, -38, -36, -34, -32, -30, -28, -26, -24, -22, -20, -18, -16, -14, -12, -10, -8, -6, -4, -2]\n",
      "[-100, -98, -96, -94, -92, -90, -88, -86, -84, -82, -80, -78, -76, -74, -72, -70, -68, -66, -64, -62, -60, -58, -56, -54, -52, -50, -48, -46, -44, -42, -40, -38, -36, -34, -32, -30, -28, -26, -24, -22, -20, -18, -16, -14, -12, -10, -8, -6, -4, -2]\n",
      "[-100, -98, -96, -94, -92, -90, -88, -86, -84, -82, -80, -78, -76, -74, -72, -70, -68, -66, -64, -62, -60, -58, -56, -54, -52, -50, -48, -46, -44, -42, -40, -38, -36, -34, -32, -30, -28, -26, -24, -22, -20, -18, -16, -14, -12, -10, -8, -6, -4, -2]\n",
      "[]\n"
     ]
    }
   ],
   "source": [
    "# Which of the following would create a list of negative even numbers from -100 to 0.\n",
    "#(- 100 included and 0 not included)?\n",
    "a =list(range(-100, -1, 2))\n",
    "print(a)\n",
    "b = list(range(-100, -1, 2))\n",
    "print(b)\n",
    "c = sorted(set(range(-2, -101, -2)))\n",
    "print(c)\n",
    "d = list(range(0, -101, 2)) \n",
    "print(d)\n",
    "\n",
    "\n",
    "# answer -- a,b and c"
   ]
  },
  {
   "cell_type": "code",
   "execution_count": 21,
   "metadata": {},
   "outputs": [
    {
     "name": "stdout",
     "output_type": "stream",
     "text": [
      "[11, 5, 4, 6, 14]\n"
     ]
    }
   ],
   "source": [
    "# # Example on list comprehension\n",
    "\n",
    "l1 = [\"automobiles\", \"Honda\", \"Benz\", \"Suzuki\", \"Morris Garages\" ]\n",
    "\n",
    "# Create a list consisting of length of each element from the above list\n",
    "l2 = [len(i) for i in l1]  ## i-2 for not counting the \"\"\n",
    "print(l2)"
   ]
  },
  {
   "cell_type": "markdown",
   "metadata": {},
   "source": [
    "## You are given an integer 'n' as the input. Create a list comprehension containing the squares of the integers from 1 till n^2 (including 1 and n), and print the list.For example, if the input is 4, the output should be a list as follows:\n",
    "\n",
    "[1, 4, 9, 16]"
   ]
  },
  {
   "cell_type": "code",
   "execution_count": 23,
   "metadata": {},
   "outputs": [
    {
     "name": "stdout",
     "output_type": "stream",
     "text": [
      "Enter a number: 5\n",
      "[1, 4, 9, 16, 25]\n"
     ]
    }
   ],
   "source": [
    "n = int(input(\"Enter a number: \"))\n",
    "o_list = []\n",
    "for i in range(1,n+1):\n",
    "    o_list.append(i**2)\n",
    "print(o_list)\n",
    "\n"
   ]
  },
  {
   "cell_type": "markdown",
   "metadata": {},
   "source": [
    "## List comprehension"
   ]
  },
  {
   "cell_type": "markdown",
   "metadata": {},
   "source": [
    "#### You are given an integer 'n' as the input. Create a list comprehension containing the squares of the integers from 1 till n^2 (including 1 and n), and print the list.For example, if the input is 4, the output should be a list as follows:"
   ]
  },
  {
   "cell_type": "code",
   "execution_count": 26,
   "metadata": {},
   "outputs": [
    {
     "name": "stdout",
     "output_type": "stream",
     "text": [
      "Enter a number: 8\n",
      "[1, 4, 9, 16, 25, 36, 49, 64]\n"
     ]
    }
   ],
   "source": [
    "n = int(input(\"Enter a number: \"))\n",
    "L = [n*n for n in range(1,n+1)]     # value of n = 1,2,3,4.... o n*n = 1*1 ,2*2 and so on..it squares   \n",
    "print(L)"
   ]
  },
  {
   "cell_type": "markdown",
   "metadata": {},
   "source": [
    "#### Extract the words that start with a vowel from a list input_list=[wood, old, apple, big, item, euphoria] \n",
    "Sample Input: ['wood','old','apple','big','item','euphoria']\n",
    "\n",
    "Sample Output: ﻿['old', 'apple', 'item', 'euphoria']"
   ]
  },
  {
   "cell_type": "code",
   "execution_count": 32,
   "metadata": {},
   "outputs": [
    {
     "name": "stdout",
     "output_type": "stream",
     "text": [
      "['old', 'apple', 'item', 'euphoria']\n"
     ]
    }
   ],
   "source": [
    "input_list = ['wood','old','apple','big','item','euphoria']\n",
    "output_list = [i for i in input_list if i[0] in 'aeiou' ]\n",
    "print(output_list)\n"
   ]
  },
  {
   "cell_type": "markdown",
   "metadata": {},
   "source": [
    "##  Disctionary Comprehension"
   ]
  },
  {
   "cell_type": "code",
   "execution_count": 27,
   "metadata": {},
   "outputs": [
    {
     "name": "stdout",
     "output_type": "stream",
     "text": [
      "{11: 'automobiles', 5: 'Honda', 4: 'Benz', 6: 'Suzuki', 14: 'Morris Garages'}\n"
     ]
    }
   ],
   "source": [
    "# Example on dictionary comprehension\n",
    "\n",
    "l1 = [\"automobiles\", \"Honda\", \"Benz\", \"Suzuki\", \"Morris Garages\" ]\n",
    "\n",
    "# Create a dictionary consisting of element and length of each element from the above list\n",
    "#dict = {key1:value1, key2:value2,.................}\n",
    "d = {len(i):i for i in l1}\n",
    "\n",
    "print(d)"
   ]
  },
  {
   "cell_type": "markdown",
   "metadata": {},
   "source": [
    "### Following is the code to create a dictionary where the keys are multiples of 3 among the first 100 natural numbers and each value is the cube of the key."
   ]
  },
  {
   "cell_type": "code",
   "execution_count": 33,
   "metadata": {},
   "outputs": [
    {
     "name": "stdout",
     "output_type": "stream",
     "text": [
      "{3: 27, 6: 216, 9: 729, 12: 1728, 15: 3375, 18: 5832, 21: 9261, 24: 13824, 27: 19683, 30: 27000, 33: 35937, 36: 46656, 39: 59319, 42: 74088, 45: 91125, 48: 110592, 51: 132651, 54: 157464, 57: 185193, 60: 216000, 63: 250047, 66: 287496, 69: 328509, 72: 373248, 75: 421875, 78: 474552, 81: 531441, 84: 592704, 87: 658503, 90: 729000, 93: 804357, 96: 884736, 99: 970299}\n"
     ]
    }
   ],
   "source": [
    "dict_num = {i : i**3 for i in range(1,100) if (i%3) == 0}\n",
    "print(dict_num)"
   ]
  },
  {
   "cell_type": "markdown",
   "metadata": {},
   "source": [
    "## Set Comprehensions\n",
    "Ex . Write a program which takes a word as input from user and returns vowels from the word"
   ]
  },
  {
   "cell_type": "code",
   "execution_count": 31,
   "metadata": {},
   "outputs": [
    {
     "name": "stdout",
     "output_type": "stream",
     "text": [
      "Enter a word: educationeductaion\n",
      "{'e', 'o', 'a', 'u', 'i'}\n"
     ]
    }
   ],
   "source": [
    "word =input(\"Enter a word: \")\n",
    "vowels ={i for i in word if i in \"aeiou\"} # {} signifies its a set, if you give []--it will be taken as a list and there can be duplicates.\n",
    "print(vowels)"
   ]
  },
  {
   "cell_type": "code",
   "execution_count": 34,
   "metadata": {},
   "outputs": [
    {
     "name": "stdout",
     "output_type": "stream",
     "text": [
      "['ad', 'ae', 'af', 'bd', 'be', 'bf', 'cd', 'ce', 'cf']\n"
     ]
    }
   ],
   "source": [
    "## output of following code:\n",
    "print([i+j for i in \"abc\" for j in \"def\"])"
   ]
  },
  {
   "cell_type": "code",
   "execution_count": 35,
   "metadata": {},
   "outputs": [
    {
     "name": "stdout",
     "output_type": "stream",
     "text": [
      "aaaaa\n"
     ]
    }
   ],
   "source": [
    "print('a'*5)"
   ]
  },
  {
   "cell_type": "code",
   "execution_count": 36,
   "metadata": {},
   "outputs": [
    {
     "name": "stdout",
     "output_type": "stream",
     "text": [
      "{'A': 'aaa', 'C': 'ccc', 'B': 'bbb', 'D': 'ddd'}\n"
     ]
    }
   ],
   "source": [
    "d = {x.upper(): x*3 for x in 'acbd'}\n",
    "print(d)"
   ]
  },
  {
   "cell_type": "code",
   "execution_count": 40,
   "metadata": {},
   "outputs": [
    {
     "name": "stdout",
     "output_type": "stream",
     "text": [
      "('hello', 1, 6)\n"
     ]
    }
   ],
   "source": [
    "# open arguments\n",
    "def var_func(*args):\n",
    "    print(args)\n",
    "    \n",
    "var_func(\"hello\",1,6)\n"
   ]
  },
  {
   "cell_type": "markdown",
   "metadata": {},
   "source": [
    "### Create a lambda function 'greater', which takes two arguments x and y and return x if x>y otherwise y.\n",
    "\n",
    "If x = 2 and y= 3, then the output should be 3.\n",
    "\n",
    "Sample Input: ['9','3']\n",
    "\n",
    "Sample Output: 9"
   ]
  },
  {
   "cell_type": "code",
   "execution_count": 42,
   "metadata": {},
   "outputs": [
    {
     "data": {
      "text/plain": [
       "8"
      ]
     },
     "execution_count": 42,
     "metadata": {},
     "output_type": "execute_result"
    }
   ],
   "source": [
    "greater = lambda a , b : a if a>b else b\n",
    "greater(8,7)\n",
    "\n"
   ]
  },
  {
   "cell_type": "code",
   "execution_count": 43,
   "metadata": {},
   "outputs": [
    {
     "data": {
      "text/plain": [
       "['INDIA', 'JAPAN', 'ITALY', 'FRANCE']"
      ]
     },
     "execution_count": 43,
     "metadata": {},
     "output_type": "execute_result"
    }
   ],
   "source": [
    "# map function\n",
    "countries = [\"India\", \"Japan\", \"Italy\", \"France\"]\n",
    "# map the list to obtain the names of countries in upper case\n",
    "list(map(lambda x:x.upper(),countries))"
   ]
  },
  {
   "cell_type": "code",
   "execution_count": 47,
   "metadata": {},
   "outputs": [
    {
     "data": {
      "text/plain": [
       "['India', 'Italy']"
      ]
     },
     "execution_count": 47,
     "metadata": {},
     "output_type": "execute_result"
    }
   ],
   "source": [
    "# filter--- filter the countries names starting with \"I\"\n",
    "list(filter(lambda x : x.startswith(\"I\"),countries))\n",
    "#list(filter(lambda x: x[0]=='I', countries))"
   ]
  },
  {
   "cell_type": "code",
   "execution_count": 48,
   "metadata": {},
   "outputs": [
    {
     "data": {
      "text/plain": [
       "'India Japan Italy France'"
      ]
     },
     "execution_count": 48,
     "metadata": {},
     "output_type": "execute_result"
    }
   ],
   "source": [
    "# reduce --reduce the list to concatante the countries names into a single string variable seperated by \" \"\n",
    "from functools import reduce\n",
    "reduce(lambda x, y: x + \" \" + y, countries)"
   ]
  },
  {
   "cell_type": "code",
   "execution_count": 51,
   "metadata": {},
   "outputs": [
    {
     "name": "stdout",
     "output_type": "stream",
     "text": [
      "<map object at 0x7fcd56daef60>\n"
     ]
    },
    {
     "data": {
      "text/plain": [
       "[4, 16, 25]"
      ]
     },
     "execution_count": 51,
     "metadata": {},
     "output_type": "execute_result"
    }
   ],
   "source": [
    "L1 = [2,4,5]\n",
    "print(map(lambda x: x**2, L1))\n",
    "list(map(lambda x: x**2, L1))"
   ]
  },
  {
   "cell_type": "code",
   "execution_count": 55,
   "metadata": {},
   "outputs": [
    {
     "data": {
      "text/plain": [
       "[4, 16, 25]"
      ]
     },
     "execution_count": 55,
     "metadata": {},
     "output_type": "execute_result"
    }
   ],
   "source": [
    "# defining afunction and using it in map\n",
    "L1 = [2,4,5]\n",
    "def squareit(n):\n",
    "    return n**2\n",
    "list(map(squareit,L1))"
   ]
  },
  {
   "cell_type": "code",
   "execution_count": null,
   "metadata": {},
   "outputs": [],
   "source": [
    "# Filter function to return the multiples of 3\n",
    "my_list = [3,4,5,6,7,8,9]\n",
    "\n",
    "divby3 = lambda x:  x % 3 == 0\n",
    "\n",
    "div = filter(divby3, my_list)\n",
    "print(list(div))\n"
   ]
  },
  {
   "cell_type": "code",
   "execution_count": 56,
   "metadata": {},
   "outputs": [
    {
     "data": {
      "text/plain": [
       "2"
      ]
     },
     "execution_count": 56,
     "metadata": {},
     "output_type": "execute_result"
    }
   ],
   "source": [
    "# Write a python program to count the students above age 18\n",
    "students_data = {1:['Sam', 15] , 2:['Sharma',18], 3:['Saina', 16], 4:['Saif',19], 5:['Varun',20]}\n",
    "\n",
    "len(list(filter(lambda x : x[1] > 18, students_data.values())))"
   ]
  },
  {
   "cell_type": "code",
   "execution_count": null,
   "metadata": {},
   "outputs": [],
   "source": []
  },
  {
   "cell_type": "code",
   "execution_count": null,
   "metadata": {},
   "outputs": [],
   "source": []
  }
 ],
 "metadata": {
  "kernelspec": {
   "display_name": "Python 3",
   "language": "python",
   "name": "python3"
  },
  "language_info": {
   "codemirror_mode": {
    "name": "ipython",
    "version": 3
   },
   "file_extension": ".py",
   "mimetype": "text/x-python",
   "name": "python",
   "nbconvert_exporter": "python",
   "pygments_lexer": "ipython3",
   "version": "3.7.3"
  }
 },
 "nbformat": 4,
 "nbformat_minor": 4
}
